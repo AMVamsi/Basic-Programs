{
 "cells": [
  {
   "cell_type": "markdown",
   "metadata": {},
   "source": [
    "## 1- Program to find Largest 'n' numbers"
   ]
  },
  {
   "cell_type": "code",
   "execution_count": 1,
   "metadata": {},
   "outputs": [
    {
     "name": "stdout",
     "output_type": "stream",
     "text": [
      "print value of n:5\n",
      "Enter a multiple value: 4 5 3 6 1\n",
      "6\n"
     ]
    }
   ],
   "source": [
    "n=int(input(\"print value of n:\"))\n",
    "a = list(map(int, input(\"Enter a multiple value: \").split())) \n",
    "a.sort(reverse=True)\n",
    "print(a[0])\n"
   ]
  },
  {
   "cell_type": "code",
   "execution_count": 3,
   "metadata": {},
   "outputs": [
    {
     "data": {
      "text/plain": [
       "6"
      ]
     },
     "execution_count": 3,
     "metadata": {},
     "output_type": "execute_result"
    }
   ],
   "source": [
    "max(a)"
   ]
  },
  {
   "cell_type": "markdown",
   "metadata": {},
   "source": [
    "## 2- Count number of words in paragraph "
   ]
  },
  {
   "cell_type": "code",
   "execution_count": 4,
   "metadata": {},
   "outputs": [
    {
     "name": "stdout",
     "output_type": "stream",
     "text": [
      "This is, what i call it peace. so please say no to war bro.\n"
     ]
    }
   ],
   "source": [
    "para=str(input())\n",
    "word=len(para.split(\" \"))"
   ]
  },
  {
   "cell_type": "code",
   "execution_count": 5,
   "metadata": {},
   "outputs": [
    {
     "data": {
      "text/plain": [
       "14"
      ]
     },
     "execution_count": 5,
     "metadata": {},
     "output_type": "execute_result"
    }
   ],
   "source": [
    "word"
   ]
  },
  {
   "cell_type": "code",
   "execution_count": 6,
   "metadata": {},
   "outputs": [
    {
     "name": "stdout",
     "output_type": "stream",
     "text": [
      "14\n"
     ]
    }
   ],
   "source": [
    "count=0\n",
    "for i in para:\n",
    "    if i==\" \":\n",
    "        count=count+1\n",
    "print(count+1)"
   ]
  },
  {
   "cell_type": "code",
   "execution_count": 17,
   "metadata": {},
   "outputs": [
    {
     "data": {
      "text/plain": [
       "8"
      ]
     },
     "execution_count": 17,
     "metadata": {},
     "output_type": "execute_result"
    }
   ],
   "source": [
    "n=str(\"hi i am heart of my life adda\")\n",
    "a=n.split(\" \")\n",
    "len(a)"
   ]
  },
  {
   "cell_type": "markdown",
   "metadata": {},
   "source": [
    "## 3- Removing the all the occurrences of the given character"
   ]
  },
  {
   "cell_type": "code",
   "execution_count": 70,
   "metadata": {},
   "outputs": [
    {
     "name": "stdout",
     "output_type": "stream",
     "text": [
      "hi daddy I am your son\n",
      "enter the letter to be removed:d\n"
     ]
    }
   ],
   "source": [
    "word=str(input())\n",
    "x=str(input(\"enter the letter to be removed:\"))\n"
   ]
  },
  {
   "cell_type": "code",
   "execution_count": 71,
   "metadata": {},
   "outputs": [
    {
     "name": "stdout",
     "output_type": "stream",
     "text": [
      "hi ay I am your son\n"
     ]
    }
   ],
   "source": [
    "print(word.replace(x,\"\"))\n",
    "        "
   ]
  },
  {
   "cell_type": "code",
   "execution_count": 73,
   "metadata": {},
   "outputs": [
    {
     "name": "stdout",
     "output_type": "stream",
     "text": [
      "hi ay I am your son\n"
     ]
    }
   ],
   "source": [
    "a=str()\n",
    "for i in word:\n",
    "    if i!=x:\n",
    "        a=a+i\n",
    "print(a)"
   ]
  },
  {
   "cell_type": "markdown",
   "metadata": {},
   "source": [
    "## 4- Count of letter Occurrences from the given paragraph "
   ]
  },
  {
   "cell_type": "code",
   "execution_count": 13,
   "metadata": {},
   "outputs": [],
   "source": [
    "l=para.lower()"
   ]
  },
  {
   "cell_type": "code",
   "execution_count": 14,
   "metadata": {},
   "outputs": [
    {
     "data": {
      "text/plain": [
       "7"
      ]
     },
     "execution_count": 14,
     "metadata": {},
     "output_type": "execute_result"
    }
   ],
   "source": [
    "l.count('a')"
   ]
  },
  {
   "cell_type": "code",
   "execution_count": 16,
   "metadata": {},
   "outputs": [
    {
     "name": "stdout",
     "output_type": "stream",
     "text": [
      "7\n"
     ]
    }
   ],
   "source": [
    "c=0\n",
    "for i in l:\n",
    "    if i=='a':\n",
    "        c=c+1\n",
    "print(c)"
   ]
  },
  {
   "cell_type": "markdown",
   "metadata": {},
   "source": [
    "## 5-Factorial Problems"
   ]
  },
  {
   "cell_type": "code",
   "execution_count": 21,
   "metadata": {},
   "outputs": [
    {
     "name": "stdout",
     "output_type": "stream",
     "text": [
      "10\n",
      "3628800\n"
     ]
    }
   ],
   "source": [
    "n=int(input())\n",
    "fact=1\n",
    "for i in range(1,n+1):\n",
    "    fact=fact*i\n",
    "print(fact)"
   ]
  },
  {
   "cell_type": "code",
   "execution_count": 20,
   "metadata": {},
   "outputs": [
    {
     "name": "stdout",
     "output_type": "stream",
     "text": [
      "3628800\n"
     ]
    }
   ],
   "source": [
    "import math\n",
    "print(math.factorial(10))"
   ]
  },
  {
   "cell_type": "markdown",
   "metadata": {},
   "source": [
    "## 6-Fibonacci"
   ]
  },
  {
   "cell_type": "code",
   "execution_count": 39,
   "metadata": {},
   "outputs": [
    {
     "name": "stdout",
     "output_type": "stream",
     "text": [
      "8\n",
      "0 1 1 2 3 5 8 13 "
     ]
    }
   ],
   "source": [
    "n=int(input())\n",
    "series=0\n",
    "num1=0\n",
    "num2=1\n",
    "for i in range(1,n+1):\n",
    "    print(series, end=\" \")\n",
    "    num1=num2\n",
    "    num2=series\n",
    "    series=num1+num2\n",
    "    "
   ]
  },
  {
   "cell_type": "code",
   "execution_count": 56,
   "metadata": {},
   "outputs": [
    {
     "name": "stdout",
     "output_type": "stream",
     "text": [
      "8\n",
      "[0, 1, 1, 2, 3, 5, 8, 13]\n"
     ]
    }
   ],
   "source": [
    "def fibonacci(number):\n",
    "    # return 0 and 1 for first and second terms\n",
    "    if number == 0:\n",
    "        return 0\n",
    "    elif number == 1:\n",
    "        return 1\n",
    "    else:\n",
    "        # return the sum of two numbers\n",
    "        return fibonacci(number - 1) + fibonacci(number - 2)\n",
    "n=int(input())\n",
    "l=[]\n",
    "for i in range(n):\n",
    "    l.append(fibonacci(i))\n",
    "print(l)\n",
    "    #print(fibonacci(i),end=\",\")"
   ]
  },
  {
   "cell_type": "markdown",
   "metadata": {},
   "source": [
    "##  7-Maximum length of an increasing subarray"
   ]
  },
  {
   "cell_type": "code",
   "execution_count": null,
   "metadata": {},
   "outputs": [],
   "source": [
    "def lenOfLongIncSubArr(arr, n) : \n",
    "    m = 1 \n",
    "    l = 1  \n",
    "    for i in range(1, n) : \n",
    " \n",
    "        if (arr[i] > arr[i-1]) : \n",
    "            l =l + 1 \n",
    "        else :\n",
    "            if (m < l): \n",
    "                m = l\n",
    "                l = 1 \n",
    "    if (m < l): \n",
    "        m = l\n",
    "    return m \n",
    "arr = [5, 6, 3, 5, 7, 8, 9, 1, 2] \n",
    "n = len(arr) \n",
    "print(\"Length = \", lenOfLongIncSubArr(arr, n)) "
   ]
  },
  {
   "cell_type": "markdown",
   "metadata": {},
   "source": [
    "## 8-Sum of odd & even numbers from range "
   ]
  },
  {
   "cell_type": "code",
   "execution_count": 1,
   "metadata": {},
   "outputs": [
    {
     "name": "stdout",
     "output_type": "stream",
     "text": [
      "Enter lower limit: 5\n",
      "Enter upper limit: 25\n",
      "Sum of odd nos.:  165\n",
      "Sum of even nos.:  150\n"
     ]
    }
   ],
   "source": [
    "def sum(x,y):\n",
    "    odd=[]\n",
    "    even=[]\n",
    "    for i in range(x,y+1):\n",
    "        if i%2==0:\n",
    "            even+=[i]\n",
    "        else:\n",
    "            odd+=[i]\n",
    "    osum=0\n",
    "    esum=0\n",
    "    for i in odd:\n",
    "        osum+=i\n",
    "    for i in even:\n",
    "        esum+=i\n",
    "    print('Sum of odd nos.: ',osum)\n",
    "    print('Sum of even nos.: ',esum)\n",
    "x=int(input('Enter lower limit: '))\n",
    "y=int(input('Enter upper limit: '))\n",
    "sum(x,y)"
   ]
  },
  {
   "cell_type": "markdown",
   "metadata": {},
   "source": [
    "## 9-Mean, Variance and Standard deviation"
   ]
  },
  {
   "cell_type": "code",
   "execution_count": 2,
   "metadata": {},
   "outputs": [
    {
     "name": "stdout",
     "output_type": "stream",
     "text": [
      "Number of elements: 6\n",
      "Enter values\n",
      "3\n",
      "6\n",
      "8\n",
      "14\n",
      "53\n",
      "32\n",
      "Mean=19.333333333333332\n",
      "Standard Deviation=17.773263315691043\n",
      "Variance=315.88888888888897\n"
     ]
    }
   ],
   "source": [
    "import math\n",
    "def cal(l):\n",
    "    n=len(l)\n",
    "    mean=0\n",
    "    for i in l:\n",
    "        mean+=i\n",
    "    mean/=n\n",
    "    var=0.0\n",
    "    for i in l:\n",
    "        var+=(i-mean)**2\n",
    "    var/=n\n",
    "    std=math.sqrt(var)\n",
    "    print('Mean={}\\nStandard Deviation={}\\nVariance={}'.format(mean,std,var))\n",
    "l=[]\n",
    "n=int(input('Number of elements: '))\n",
    "print('Enter values')\n",
    "for i in range(n):\n",
    "    l.append(float(input()))\n",
    "cal(l)"
   ]
  },
  {
   "cell_type": "code",
   "execution_count": 3,
   "metadata": {},
   "outputs": [],
   "source": [
    "import statistics as st\n",
    "l=[3,6,8,14,53,32]\n",
    "x=st.mean(l)\n",
    "y=st.variance(l)\n",
    "z=st.stdev(l)"
   ]
  },
  {
   "cell_type": "code",
   "execution_count": 13,
   "metadata": {},
   "outputs": [
    {
     "name": "stdout",
     "output_type": "stream",
     "text": [
      "19.333333333333332 \n",
      " 379.0666666666667 \n",
      " 19.469634476966093\n"
     ]
    }
   ],
   "source": [
    "print(x,\"\\n\",y,\"\\n\",z)"
   ]
  },
  {
   "cell_type": "markdown",
   "metadata": {},
   "source": [
    "## 10-Print Pyramind"
   ]
  },
  {
   "cell_type": "code",
   "execution_count": 18,
   "metadata": {},
   "outputs": [
    {
     "name": "stdout",
     "output_type": "stream",
     "text": [
      "Enter no of rows: 5\n",
      "                    *   \n",
      "\n",
      "                *   *   *   \n",
      "\n",
      "            *   *   *   *   *   \n",
      "\n",
      "        *   *   *   *   *   *   *   \n",
      "\n",
      "    *   *   *   *   *   *   *   *   *   \n",
      "\n"
     ]
    }
   ],
   "source": [
    "n=int(input('Enter no of rows: '))\n",
    "for i in range(n):\n",
    "    for j in range(n-i):\n",
    "        print('   ',end=' ')\n",
    "    for k in range(2*i+1):\n",
    "        print('*  ',end=' ')\n",
    "    print('\\n')\n"
   ]
  },
  {
   "cell_type": "code",
   "execution_count": 27,
   "metadata": {
    "scrolled": true
   },
   "outputs": [
    {
     "name": "stdout",
     "output_type": "stream",
     "text": [
      "Enter no of rows: 5\n",
      "                    *   \n",
      "\n",
      "                *   *   *   \n",
      "\n",
      "            *   *   *   *   *   \n",
      "\n",
      "        *   *   *   *   *   *   *   \n",
      "\n",
      "    *   *   *   *   *   *   *   *   *   \n",
      "\n"
     ]
    }
   ],
   "source": [
    "n=int(input('Enter no of rows: '))\n",
    "for i in range(n):\n",
    "    for j in range(n-i):\n",
    "        print('   ',end=' ')\n",
    "    for k in range(i+1):\n",
    "        print('*  ',end=' ')\n",
    "    for k in range(i):\n",
    "        print('*  ',end=' ')\n",
    "    print('\\n')\n"
   ]
  },
  {
   "cell_type": "code",
   "execution_count": 28,
   "metadata": {},
   "outputs": [
    {
     "name": "stdout",
     "output_type": "stream",
     "text": [
      "1 \n",
      "\n",
      "1 2 \n",
      "\n",
      "1 2 3 \n",
      "\n",
      "1 2 3 4 \n",
      "\n",
      "1 2 3 4 5 \n",
      "\n"
     ]
    }
   ],
   "source": [
    "def num_pattern(n):\n",
    "    for i in range(1,int(n)+1):\n",
    "        for j in range(1, i+1):\n",
    "            print(j, end=\" \") \n",
    "            \n",
    "        print(\"\\n\")\n",
    "num_pattern(5)"
   ]
  },
  {
   "cell_type": "markdown",
   "metadata": {},
   "source": [
    "## 11- String Palindrome in Paragraph"
   ]
  },
  {
   "cell_type": "code",
   "execution_count": 28,
   "metadata": {},
   "outputs": [
    {
     "data": {
      "text/plain": [
       "8"
      ]
     },
     "execution_count": 28,
     "metadata": {},
     "output_type": "execute_result"
    }
   ],
   "source": [
    "n=str(\"hi i am heart of my life adda\")\n",
    "a=n.split(\" \")\n",
    "len(a)"
   ]
  },
  {
   "cell_type": "code",
   "execution_count": 38,
   "metadata": {},
   "outputs": [
    {
     "name": "stdout",
     "output_type": "stream",
     "text": [
      "2\n"
     ]
    }
   ],
   "source": [
    "c=0\n",
    "for i in a:\n",
    "    r=reversed(i)\n",
    "    i=list(i)\n",
    "    l=list(r)\n",
    "    if i==l:\n",
    "        c+=1\n",
    "print(c)\n",
    "        "
   ]
  },
  {
   "cell_type": "code",
   "execution_count": null,
   "metadata": {},
   "outputs": [],
   "source": []
  },
  {
   "cell_type": "code",
   "execution_count": 31,
   "metadata": {},
   "outputs": [
    {
     "data": {
      "text/plain": [
       "['h', 'i']"
      ]
     },
     "execution_count": 31,
     "metadata": {},
     "output_type": "execute_result"
    }
   ],
   "source": []
  },
  {
   "cell_type": "code",
   "execution_count": null,
   "metadata": {},
   "outputs": [],
   "source": [
    "list(reversed(a))"
   ]
  },
  {
   "cell_type": "markdown",
   "metadata": {},
   "source": [
    "# Sorting"
   ]
  },
  {
   "cell_type": "markdown",
   "metadata": {},
   "source": [
    "## Bubble Sort"
   ]
  },
  {
   "cell_type": "code",
   "execution_count": 80,
   "metadata": {},
   "outputs": [
    {
     "name": "stdout",
     "output_type": "stream",
     "text": [
      "[2, 6, 11, 19, 27, 31, 45, 121]\n"
     ]
    }
   ],
   "source": [
    "def bubblesort(list):\n",
    "\n",
    "# Swap the elements to arrange in order\n",
    "    for iter_num in range(len(list)-1,0,-1):\n",
    "        for idx in range(iter_num):\n",
    "            if list[idx]>list[idx+1]:\n",
    "                temp = list[idx]\n",
    "                list[idx] = list[idx+1]\n",
    "                list[idx+1] = temp\n",
    "\n",
    "\n",
    "list = [19,2,31,45,6,11,121,27]\n",
    "bubblesort(list)\n",
    "print(list)"
   ]
  },
  {
   "cell_type": "code",
   "execution_count": null,
   "metadata": {},
   "outputs": [],
   "source": []
  }
 ],
 "metadata": {
  "kernelspec": {
   "display_name": "Python 3",
   "language": "python",
   "name": "python3"
  },
  "language_info": {
   "codemirror_mode": {
    "name": "ipython",
    "version": 3
   },
   "file_extension": ".py",
   "mimetype": "text/x-python",
   "name": "python",
   "nbconvert_exporter": "python",
   "pygments_lexer": "ipython3",
   "version": "3.8.3"
  }
 },
 "nbformat": 4,
 "nbformat_minor": 4
}
